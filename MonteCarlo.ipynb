{
  "nbformat": 4,
  "nbformat_minor": 0,
  "metadata": {
    "colab": {
      "provenance": [],
      "authorship_tag": "ABX9TyPw3qeup1b6zToJ/2CXbxWp",
      "include_colab_link": true
    },
    "kernelspec": {
      "name": "python3",
      "display_name": "Python 3"
    },
    "language_info": {
      "name": "python"
    }
  },
  "cells": [
    {
      "cell_type": "markdown",
      "metadata": {
        "id": "view-in-github",
        "colab_type": "text"
      },
      "source": [
        "<a href=\"https://colab.research.google.com/github/21csu062/Nikhil_Reinforcement-Learning/blob/main/MonteCarlo.ipynb\" target=\"_parent\"><img src=\"https://colab.research.google.com/assets/colab-badge.svg\" alt=\"Open In Colab\"/></a>"
      ]
    },
    {
      "cell_type": "markdown",
      "source": [
        "First Visit Monte Carlo\n",
        "\n",
        "\n"
      ],
      "metadata": {
        "id": "Z3gltnUqHeKC"
      }
    },
    {
      "cell_type": "code",
      "execution_count": 1,
      "metadata": {
        "colab": {
          "base_uri": "https://localhost:8080/"
        },
        "id": "aEGmiIMXHA4e",
        "outputId": "67e66f65-b870-4d7e-e742-b47b11bbfc14"
      },
      "outputs": [
        {
          "output_type": "stream",
          "name": "stdout",
          "text": [
            "{'A': 1.0, 'B': -2.5}\n"
          ]
        }
      ],
      "source": [
        "import numpy as np\n",
        "\n",
        "# Define the episode\n",
        "episodes = [\n",
        "    [('A', 3), ('A', 2), ('B', -4), ('A', 4), ('B', -3)],\n",
        "    [('B', -2), ('A', 3), ('B', -3)]\n",
        "    ]\n",
        "\n",
        "# Define the states\n",
        "states = ['A', 'B']\n",
        "\n",
        "# Initialize the value function\n",
        "V = {s: 0 for s in states}\n",
        "\n",
        "# Perform First-Visit Monte Carlo Policy Evaluation\n",
        "returns = {s: [] for s in states}\n",
        "\n",
        "for episode in episodes:\n",
        "    # Calculate returns and update the value function\n",
        "    G = 0\n",
        "    for t, (state, reward) in reversed(list(enumerate(episode))):\n",
        "        G = G + reward\n",
        "        if state not in [x[0] for x in episode[:t]]:\n",
        "            returns[state].append(G)\n",
        "            V[state] = np.mean(returns[state])\n",
        "\n",
        "# Print the value function\n",
        "print(V)"
      ]
    },
    {
      "cell_type": "markdown",
      "source": [
        "Every Visit Monte Carlo\n"
      ],
      "metadata": {
        "id": "dUtbjACOIBqP"
      }
    },
    {
      "cell_type": "code",
      "source": [
        "import numpy as np\n",
        "\n",
        "# Define the episode\n",
        "episodes = [\n",
        "    [('A', 3), ('A', 2), ('B', -4), ('A', 4), ('B', -3)],\n",
        "    [('B', -2), ('A', 3), ('B', -3)]\n",
        "    ]\n",
        "\n",
        "# Define the states\n",
        "states = ['A', 'B']\n",
        "\n",
        "# Initialize the value function\n",
        "V = {s: 0 for s in states}\n",
        "\n",
        "# Perform Every-Visit Monte Carlo Policy Evaluation\n",
        "returns = {s: [] for s in states}\n",
        "\n",
        "for episode in episodes:\n",
        "    # Calculate returns and update the value function\n",
        "    G = 0\n",
        "    for t, (state, reward) in reversed(list(enumerate(episode))):\n",
        "        G = G + reward\n",
        "        # Removed the check for first visit\n",
        "        returns[state].append(G)\n",
        "        V[state] = np.mean(returns[state])\n",
        "\n",
        "# Print the value function\n",
        "print(V)"
      ],
      "metadata": {
        "colab": {
          "base_uri": "https://localhost:8080/"
        },
        "id": "Fi-jsDsaHKdv",
        "outputId": "ffb0e255-f0fe-46ba-ee0c-a62720eac0b6"
      },
      "execution_count": 2,
      "outputs": [
        {
          "output_type": "stream",
          "name": "stdout",
          "text": [
            "{'A': 0.5, 'B': -2.75}\n"
          ]
        }
      ]
    }
  ]
}