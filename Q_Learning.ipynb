{
  "nbformat": 4,
  "nbformat_minor": 0,
  "metadata": {
    "colab": {
      "provenance": [],
      "authorship_tag": "ABX9TyN9je0dRpBTAUBZ2YHq5/yK",
      "include_colab_link": true
    },
    "kernelspec": {
      "name": "python3",
      "display_name": "Python 3"
    },
    "language_info": {
      "name": "python"
    }
  },
  "cells": [
    {
      "cell_type": "markdown",
      "metadata": {
        "id": "view-in-github",
        "colab_type": "text"
      },
      "source": [
        "<a href=\"https://colab.research.google.com/github/21csu062/Nikhil_Reinforcement-Learning/blob/main/Q_Learning.ipynb\" target=\"_parent\"><img src=\"https://colab.research.google.com/assets/colab-badge.svg\" alt=\"Open In Colab\"/></a>"
      ]
    },
    {
      "cell_type": "code",
      "execution_count": 1,
      "metadata": {
        "colab": {
          "base_uri": "https://localhost:8080/"
        },
        "id": "kY7aSl4nEXV5",
        "outputId": "f84c0a28-f13c-4a59-a4fe-89172f9c8dcd"
      },
      "outputs": [
        {
          "output_type": "stream",
          "name": "stdout",
          "text": [
            "[[  0   0   0   0  80   0]\n",
            " [  0   0   0  64   0 100]\n",
            " [  0   0   0  64   0   0]\n",
            " [  0  80  51   0  80   0]\n",
            " [ 64   0   0  64   0 100]\n",
            " [  0   0   0   0   0   0]]\n"
          ]
        }
      ],
      "source": [
        "import numpy as np\n",
        "\n",
        "# Define the environment\n",
        "env = np.array([\n",
        "    [-1, -1, -1, -1, 0, -1],\n",
        "    [-1, -1, -1, 0, -1, 100],\n",
        "    [-1, -1, -1, 0, -1, -1],\n",
        "    [-1, 0, 0, -1, 0, -1],\n",
        "    [0, -1, -1, 0, -1, 100],\n",
        "    [-1, 0, -1, -1, 0, 100]\n",
        "])\n",
        "\n",
        "# Define the Q matrix\n",
        "Q = np.zeros_like(env)\n",
        "\n",
        "# Define the hyperparameters\n",
        "alpha = 1\n",
        "gamma = 0.8\n",
        "num_episodes = 1000\n",
        "\n",
        "# Run the Q-Learning algorithm\n",
        "for episode in range(num_episodes):\n",
        "    state = np.random.randint(0, env.shape[0])\n",
        "    while state != 5:\n",
        "        action = np.random.choice(np.where(env[state] != -1)[0])\n",
        "        next_state = action\n",
        "        reward = env[state, action]\n",
        "        Q[state, action] = (1 - alpha) * Q[state, action] + alpha * (reward + gamma * np.max(Q[next_state]))\n",
        "        state = next_state\n",
        "\n",
        "# Print the learned Q matrix\n",
        "print(Q)"
      ]
    }
  ]
}